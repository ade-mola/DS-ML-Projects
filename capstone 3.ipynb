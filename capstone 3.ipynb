{
 "cells": [
  {
   "cell_type": "code",
   "execution_count": null,
   "metadata": {},
   "outputs": [],
   "source": [
    "import pandas as pd\n",
    "import matplotlib as mpl\n",
    "import matplotlib.pyplot as plt\n",
    "import seaborn as sns\n",
    "import numpy as np\n",
    "import pandas_profiling\n",
    "import category_encoders as ce\n",
    "import catboost\n",
    "from sklearn import metrics\n",
    "from sklearn.metrics import confusion_matrix\n",
    "from sklearn.model_selection import train_test_split, RandomizedSearchCV, KFold\n",
    "from sklearn.preprocessing import StandardScaler\n",
    "import xgboost as xgb\n",
    "from xgboost import XGBClassifier\n",
    "from xgboost import plot_importance\n",
    "%matplotlib inline \n",
    "pd.options.display.max_columns = None"
   ]
  },
  {
   "cell_type": "code",
   "execution_count": null,
   "metadata": {},
   "outputs": [],
   "source": [
    "X_train = pd.read_csv(\"train_values.csv\")\n",
    "y_train = pd.read_csv(\"train_labels.csv\")\n",
    "test = pd.read_csv('test_values.csv')\n",
    "train = pd.merge(X_train, y_train, on='row_id')"
   ]
  },
  {
   "cell_type": "code",
   "execution_count": null,
   "metadata": {},
   "outputs": [],
   "source": [
    "to_log = [\"loan_amount\", \"applicant_income\", \"loan_income_ratio\"]\n",
    "          \n",
    "\n",
    "to_drop = ['row_id', 'number_of_owner-occupied_units', 'population', 'number_of_1_to_4_family_units']\n",
    "\n",
    "num_cols = [\"minority_population_pct\",\n",
    "            \"tract_to_msa_md_income_pct\"\n",
    "            ]\n",
    "\n",
    "colss = ['applicant_income', \n",
    "       'ffiecmedian_family_income',  \n",
    "       'loan_income_ratio']\n",
    "\n",
    "def prepare_data(df):\n",
    "    \n",
    "    df['loan_income_ratio'] = ((df['loan_amount'] / df['applicant_income']) *100)\n",
    "#     df['lenders_acceptance_rate'] = df.groupby('lender')['accepted'].mean()\n",
    "    \n",
    "    df[to_log] = df[to_log].applymap(math.log)\n",
    "    \n",
    "    df.drop(to_drop, axis=1, inplace=True)\n",
    "    \n",
    "    for col in colss:\n",
    "        df[col].fillna(df[col].median(), inplace=True)\n",
    "    \n",
    "    for col in num_cols:\n",
    "        df[col].fillna(df[col].mean(), inplace=True)\n",
    "    \n",
    "    \n",
    "    return df"
   ]
  },
  {
   "cell_type": "code",
   "execution_count": null,
   "metadata": {},
   "outputs": [],
   "source": [
    "train_set = prepare_data(train)\n",
    "\n",
    "x= train_set.drop('accepted', axis=1)\n",
    "y= train_set.accepted\n",
    "\n",
    "ce_target = ce.TargetEncoder(cols = [\"lender\"], smoothing = 5, return_df = True)\n",
    "train_set1 = ce_target.fit_transform(x, y)"
   ]
  }
 ],
 "metadata": {
  "kernelspec": {
   "display_name": "Python 3",
   "language": "python",
   "name": "python3"
  },
  "language_info": {
   "codemirror_mode": {
    "name": "ipython",
    "version": 3
   },
   "file_extension": ".py",
   "mimetype": "text/x-python",
   "name": "python",
   "nbconvert_exporter": "python",
   "pygments_lexer": "ipython3",
   "version": "3.7.4"
  }
 },
 "nbformat": 4,
 "nbformat_minor": 2
}
