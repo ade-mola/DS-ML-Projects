{
 "cells": [
  {
   "cell_type": "markdown",
   "metadata": {},
   "source": [
    "**Training**"
   ]
  },
  {
   "cell_type": "code",
   "execution_count": null,
   "metadata": {
    "colab": {},
    "colab_type": "code",
    "id": "hoEQzXBvyxtv"
   },
   "outputs": [],
   "source": [
    "import pandas as pd\n",
    "import numpy as np\n",
    "import matplotlib.pyplot as plt\n",
    "import seaborn as sns\n",
    "import category_encoders as ce\n",
    "import catboost\n",
    "from sklearn import preprocessing\n",
    "%matplotlib inline"
   ]
  },
  {
   "cell_type": "code",
   "execution_count": null,
   "metadata": {
    "colab": {},
    "colab_type": "code",
    "id": "wxKQH1UIyxuF"
   },
   "outputs": [],
   "source": [
    "dataset = pd.read_csv('train.csv')"
   ]
  },
  {
   "cell_type": "code",
   "execution_count": null,
   "metadata": {
    "colab": {
     "base_uri": "https://localhost:8080/",
     "height": 417
    },
    "colab_type": "code",
    "id": "8I7o1CjoqAv5",
    "outputId": "06e30114-0fe2-4e5f-8073-6feb692ecc7e"
   },
   "outputs": [],
   "source": [
    "dataset.head()"
   ]
  },
  {
   "cell_type": "code",
   "execution_count": null,
   "metadata": {
    "colab": {
     "base_uri": "https://localhost:8080/",
     "height": 417
    },
    "colab_type": "code",
    "id": "YNOQWtppyxuT",
    "outputId": "8bace960-f571-40ff-ec4a-6fa2408652ef"
   },
   "outputs": [],
   "source": [
    "dataset['RecruitedAge'] = dataset['Year_of_recruitment'] - dataset['Year_of_birth']\n",
    "dataset['CurrentAge'] = 2019 - dataset['Year_of_birth']\n",
    "dataset['Length_of_service'] = 2019 - dataset['Year_of_recruitment']\n",
    "dataset.head()"
   ]
  },
  {
   "cell_type": "code",
   "execution_count": null,
   "metadata": {
    "colab": {},
    "colab_type": "code",
    "id": "mhw1uvozjS8v"
   },
   "outputs": [],
   "source": [
    "north_central = ['BENUE', 'KOGI', 'KWARA',\n",
    "                'NASSARAWA', 'NIGER', 'PLATEAU', 'FCT']\n",
    "north_east = ['ADAMAWA', 'BAUCHI', 'BORNO', 'GOMBE',\n",
    "             'TARABA', 'YOBE']\n",
    "north_west = ['JIGAWA', 'KADUNA', 'KANO', 'KATSINA',\n",
    "             'KEBBI', 'SOKOTO', 'ZAMFARA']\n",
    "south_east = ['ABIA', 'ANAMBRA', 'EBONYI', 'ENUGU', 'IMO']\n",
    "south_west = ['EKITI', 'LAGOS', 'OGUN', 'ONDO',\n",
    "             'OSUN', 'OYO']\n",
    "south_south = ['AKWA IBOM', 'BAYELSA', 'CROSS RIVER', 'RIVERS',\n",
    "              'DELTA', 'EDO']\n",
    "\n",
    "\n",
    "geo_zone = {}\n",
    "for i in dataset['State_Of_Origin'].unique():\n",
    "    geo_zone[i] = None\n",
    "\n",
    "for key in geo_zone.keys():\n",
    "    if key in north_central:\n",
    "    geo_zone[key] = 'North Central'\n",
    "    elif key in north_east:\n",
    "    geo_zone[key] = 'North East'\n",
    "    elif key in north_west:\n",
    "    geo_zone[key] = 'North West'\n",
    "    elif key in south_west:\n",
    "    geo_zone[key] = 'South West'\n",
    "    elif key in south_south:\n",
    "    geo_zone[key] = 'South South'\n",
    "    elif key in south_east:\n",
    "    geo_zone[key] = 'South East'\n",
    "    else:\n",
    "    print(\"No zone found\", key)\n",
    "    \n",
    "dataset['Zones'] = dataset['State_Of_Origin'].map(geo_zone)"
   ]
  },
  {
   "cell_type": "code",
   "execution_count": null,
   "metadata": {
    "colab": {},
    "colab_type": "code",
    "id": "2UFTVa_4GHz4"
   },
   "outputs": [],
   "source": [
    "dataset=pd.merge(dataset,dataset[['State_Of_Origin','Division',\n",
    "                            'Training_score_average']].groupby(['State_Of_Origin','Division']).mean(),how='left',on=['State_Of_Origin','Division'])\n",
    "dataset=dataset.rename(columns={'Training_score_average_x':'Training_score_average','Training_score_average_y':'mean_org_div'})\n",
    "dataset['new_trng_score_avg'] = dataset['Training_score_average'] / dataset['mean_org_div']\n",
    "dataset.head()"
   ]
  },
  {
   "cell_type": "code",
   "execution_count": null,
   "metadata": {
    "colab": {
     "base_uri": "https://localhost:8080/",
     "height": 503
    },
    "colab_type": "code",
    "id": "WP1QgL_Syxuv",
    "outputId": "6d71461f-3308-4af5-8685-65fb874f7711"
   },
   "outputs": [],
   "source": [
    "dataset.info()"
   ]
  },
  {
   "cell_type": "code",
   "execution_count": null,
   "metadata": {
    "colab": {
     "base_uri": "https://localhost:8080/",
     "height": 320
    },
    "colab_type": "code",
    "id": "xSEWvW_dyxu6",
    "outputId": "3f453543-ce31-446a-ce25-5c25b1a90a65"
   },
   "outputs": [],
   "source": [
    "dataset.describe()"
   ]
  },
  {
   "cell_type": "code",
   "execution_count": null,
   "metadata": {
    "colab": {
     "base_uri": "https://localhost:8080/",
     "height": 503
    },
    "colab_type": "code",
    "id": "P9wK5Snyyxvu",
    "outputId": "fb30bf49-7e5b-406a-a5ed-c52ed8568aa2"
   },
   "outputs": [],
   "source": [
    "dataset[\"Qualification\"].fillna(dataset[\"Qualification\"].mode()[0], inplace = True)\n",
    "tr_data = dataset\n",
    "tr_data.info()"
   ]
  },
  {
   "cell_type": "code",
   "execution_count": null,
   "metadata": {
    "colab": {
     "base_uri": "https://localhost:8080/",
     "height": 865
    },
    "colab_type": "code",
    "id": "umJJdm8Wyxv6",
    "outputId": "e76525ea-3bdd-4d3c-ce8d-c7bb3eca2eb1"
   },
   "outputs": [],
   "source": [
    "plt.figure(figsize=(14,12))\n",
    "sns.heatmap(tr_data.corr().round(decimals=2), annot=True)\n",
    "plt.title(\"Correlation heatmap\")"
   ]
  },
  {
   "cell_type": "code",
   "execution_count": null,
   "metadata": {
    "colab": {},
    "colab_type": "code",
    "id": "EdZzlzvjyxwF"
   },
   "outputs": [],
   "source": [
    "cols =['Promoted_or_Not', 'EmployeeNo']\n",
    "X_train = tr_data.drop(cols, axis=1)"
   ]
  },
  {
   "cell_type": "code",
   "execution_count": null,
   "metadata": {
    "colab": {
     "base_uri": "https://localhost:8080/",
     "height": 417
    },
    "colab_type": "code",
    "id": "p0cTfD5tyxwM",
    "outputId": "56e5c225-1afe-4b98-f641-23e82ec356e5",
    "scrolled": true
   },
   "outputs": [],
   "source": [
    "X_train.head()"
   ]
  },
  {
   "cell_type": "code",
   "execution_count": null,
   "metadata": {
    "colab": {},
    "colab_type": "code",
    "id": "XXOGMxS4yxwU"
   },
   "outputs": [],
   "source": [
    "col = ['Promoted_or_Not']\n",
    "y_train = tr_data[col]"
   ]
  },
  {
   "cell_type": "code",
   "execution_count": null,
   "metadata": {
    "colab": {},
    "colab_type": "code",
    "id": "qMwHCcCmyxwk"
   },
   "outputs": [],
   "source": [
    "# cat_cols = ['Division', 'Qualification', 'Gender', 'Channel_of_Recruitment', \n",
    "#              'Zones', 'State_Of_Origin',\n",
    "#             'Marital_Status', 'Past_Disciplinary_Action',\n",
    "#             'Previous_IntraDepartmental_Movement', 'Foreign_schooled']\n",
    "\n",
    "# ce_target = ce.TargetEncoder(cols = cat_cols, smoothing = 5, return_df = True)\n",
    "# X_train = ce_target.fit_transform(X_train, y_train)"
   ]
  },
  {
   "cell_type": "code",
   "execution_count": null,
   "metadata": {
    "colab": {},
    "colab_type": "code",
    "id": "KtgXSj8dIDl4"
   },
   "outputs": [],
   "source": [
    "columns = X_train.select_dtypes(include='object').columns.tolist()\n",
    "\n",
    "le = preprocessing.LabelEncoder()\n",
    "X_train[columns] = X_train[columns].apply(lambda x: le.fit_transform(x))\n",
    "\n",
    "X_train = pd.get_dummies(X_train, columns=columns, drop_first=True)"
   ]
  },
  {
   "cell_type": "code",
   "execution_count": null,
   "metadata": {
    "colab": {},
    "colab_type": "code",
    "id": "9glBcD1Cyxwu"
   },
   "outputs": [],
   "source": [
    "# cat_features_index = np.where(X_train.dtypes != float)[0]\n"
   ]
  },
  {
   "cell_type": "code",
   "execution_count": null,
   "metadata": {
    "colab": {},
    "colab_type": "code",
    "id": "gBzC4ti5yxw5"
   },
   "outputs": [],
   "source": [
    "# cat_features_index"
   ]
  },
  {
   "cell_type": "code",
   "execution_count": null,
   "metadata": {
    "colab": {},
    "colab_type": "code",
    "id": "Tu0IG9iGyxxD"
   },
   "outputs": [],
   "source": [
    "from sklearn import metrics\n",
    "from sklearn.metrics import confusion_matrix\n",
    "from sklearn.model_selection import train_test_split, RandomizedSearchCV, KFold\n",
    "from sklearn.preprocessing import StandardScaler\n",
    "\n",
    "xtrain,xtest,ytrain,ytest = train_test_split(X_train,y_train,train_size=.85,random_state=1234)\n"
   ]
  },
  {
   "cell_type": "code",
   "execution_count": null,
   "metadata": {
    "colab": {},
    "colab_type": "code",
    "id": "xCqN2ymOyxxP"
   },
   "outputs": [],
   "source": [
    "from catboost import CatBoostClassifier\n",
    "# model = CatBoostClassifier(iterations=500,depth=12, \n",
    "#                            learning_rate=0.2,\n",
    "#                            eval_metric='F1', score_function='L2', leaf_estimation_iterations=2, \n",
    "#                            l2_leaf_reg=9,one_hot_max_size=50,use_best_model=True,\n",
    "#                            early_stopping_rounds=20, random_seed=42)\n",
    "\n",
    "\n",
    "model = CatBoostClassifier(iterations=400, \n",
    "                           depth=12, learning_rate=0.2, eval_metric='F1', early_stopping_rounds=20, \n",
    "                           score_function='L2', bootstrap_type= 'Bernoulli', subsample=0.8, \n",
    "                           sampling_frequency='PerTree', random_strength=0.3, use_best_model=True, \n",
    "                           leaf_estimation_iterations=2, fold_len_multiplier=1.8, best_model_min_trees=3)"
   ]
  },
  {
   "cell_type": "code",
   "execution_count": null,
   "metadata": {
    "colab": {
     "base_uri": "https://localhost:8080/",
     "height": 1000
    },
    "colab_type": "code",
    "id": "s8aHbba3yxxX",
    "outputId": "49fbc753-47f9-4f6f-9738-6609ffcfd8c7"
   },
   "outputs": [],
   "source": [
    "model.fit(xtrain,ytrain,eval_set=(xtest,ytest))"
   ]
  },
  {
   "cell_type": "markdown",
   "metadata": {},
   "source": [
    "**Prediction**"
   ]
  },
  {
   "cell_type": "code",
   "execution_count": null,
   "metadata": {
    "colab": {},
    "colab_type": "code",
    "id": "xyQz5SL8yxxm"
   },
   "outputs": [],
   "source": [
    "test = pd.read_csv('test.csv')\n"
   ]
  },
  {
   "cell_type": "code",
   "execution_count": null,
   "metadata": {
    "colab": {},
    "colab_type": "code",
    "id": "r62aJA2LF08s"
   },
   "outputs": [],
   "source": [
    "test['RecruitedAge'] = test['Year_of_recruitment'] - test['Year_of_birth']\n",
    "test['CurrentAge'] = 2019 - test['Year_of_birth']\n",
    "test['Length_of_service'] = 2019 - test['Year_of_recruitment']"
   ]
  },
  {
   "cell_type": "code",
   "execution_count": null,
   "metadata": {
    "colab": {},
    "colab_type": "code",
    "id": "Tn_5WX_eF0RJ"
   },
   "outputs": [],
   "source": [
    "north_central = ['BENUE', 'KOGI', 'KWARA',\n",
    "                'NASSARAWA', 'NIGER', 'PLATEAU', 'FCT']\n",
    "north_east = ['ADAMAWA', 'BAUCHI', 'BORNO', 'GOMBE',\n",
    "             'TARABA', 'YOBE']\n",
    "north_west = ['JIGAWA', 'KADUNA', 'KANO', 'KATSINA',\n",
    "             'KEBBI', 'SOKOTO', 'ZAMFARA']\n",
    "south_east = ['ABIA', 'ANAMBRA', 'EBONYI', 'ENUGU', 'IMO']\n",
    "south_west = ['EKITI', 'LAGOS', 'OGUN', 'ONDO',\n",
    "             'OSUN', 'OYO']\n",
    "south_south = ['AKWA IBOM', 'BAYELSA', 'CROSS RIVER', 'RIVERS',\n",
    "              'DELTA', 'EDO']\n",
    "\n",
    "\n",
    "geo_zone = {}\n",
    "for i in test['State_Of_Origin'].unique():\n",
    "    geo_zone[i] = None\n",
    "\n",
    "for key in geo_zone.keys():\n",
    "    if key in north_central:\n",
    "    geo_zone[key] = 'North Central'\n",
    "    elif key in north_east:\n",
    "    geo_zone[key] = 'North East'\n",
    "    elif key in north_west:\n",
    "    geo_zone[key] = 'North West'\n",
    "    elif key in south_west:\n",
    "    geo_zone[key] = 'South West'\n",
    "    elif key in south_south:\n",
    "    geo_zone[key] = 'South South'\n",
    "    elif key in south_east:\n",
    "    geo_zone[key] = 'South East'\n",
    "    else:\n",
    "    print(\"No zone found\", key)\n",
    "    \n",
    "test['Zones'] = test['State_Of_Origin'].map(geo_zone)"
   ]
  },
  {
   "cell_type": "code",
   "execution_count": null,
   "metadata": {
    "colab": {},
    "colab_type": "code",
    "id": "WJkJik1gLTPw"
   },
   "outputs": [],
   "source": [
    "test=pd.merge(test,test[['State_Of_Origin','Division',\n",
    "                            'Training_score_average']].groupby(['State_Of_Origin','Division']).mean(),how='left',on=['State_Of_Origin','Division'])\n",
    "test=test.rename(columns={'Training_score_average_x':'Training_score_average','Training_score_average_y':'mean_org_div'})\n",
    "test['new_trng_score_avg'] = test['Training_score_average'] / test['mean_org_div']\n",
    "test.head()"
   ]
  },
  {
   "cell_type": "code",
   "execution_count": null,
   "metadata": {
    "colab": {
     "base_uri": "https://localhost:8080/",
     "height": 486
    },
    "colab_type": "code",
    "id": "T1S8RqFEf1gS",
    "outputId": "b3888cf0-47a6-4515-b2c3-62b6fa21680d"
   },
   "outputs": [],
   "source": [
    "test[\"Qualification\"].fillna(test[\"Qualification\"].mode()[0], inplace = True)\n",
    "test.info()"
   ]
  },
  {
   "cell_type": "code",
   "execution_count": null,
   "metadata": {
    "colab": {},
    "colab_type": "code",
    "id": "0EcZOhyxyxx2"
   },
   "outputs": [],
   "source": [
    "cols =['EmployeeNo']\n",
    "X_test = test.drop(cols, axis=1)"
   ]
  },
  {
   "cell_type": "code",
   "execution_count": null,
   "metadata": {
    "colab": {},
    "colab_type": "code",
    "id": "UWR0QJNMKgVj"
   },
   "outputs": [],
   "source": [
    "columns = X_test.select_dtypes(include='object').columns.tolist()\n",
    "\n",
    "X_test[columns] = X_test[columns].apply(lambda x: le.fit_transform(x))\n",
    "    \n",
    "X_test = pd.get_dummies(X_test, columns=columns, drop_first=True)"
   ]
  },
  {
   "cell_type": "code",
   "execution_count": null,
   "metadata": {
    "colab": {},
    "colab_type": "code",
    "id": "V8bYLFXOyxyE"
   },
   "outputs": [],
   "source": [
    "pred = model.predict(X_test)\n",
    "pred = pred.astype(np.int)"
   ]
  },
  {
   "cell_type": "code",
   "execution_count": null,
   "metadata": {
    "colab": {},
    "colab_type": "code",
    "id": "qsXrlT9jyxyN"
   },
   "outputs": [],
   "source": [
    "submission = pd.DataFrame({'EmployeeNo':test['EmployeeNo'],'Promoted_or_Not':pred})"
   ]
  },
  {
   "cell_type": "code",
   "execution_count": null,
   "metadata": {
    "colab": {},
    "colab_type": "code",
    "id": "DoQ_VpL-yxyV"
   },
   "outputs": [],
   "source": [
    "submission.to_csv('DSN_Kaggle.csv',index=False)"
   ]
  }
 ],
 "metadata": {
  "accelerator": "GPU",
  "colab": {
   "collapsed_sections": [],
   "name": "Intercampus.ipynb",
   "provenance": []
  },
  "kernelspec": {
   "display_name": "Python 3",
   "language": "python",
   "name": "python3"
  },
  "language_info": {
   "codemirror_mode": {
    "name": "ipython",
    "version": 3
   },
   "file_extension": ".py",
   "mimetype": "text/x-python",
   "name": "python",
   "nbconvert_exporter": "python",
   "pygments_lexer": "ipython3",
   "version": "3.7.4"
  }
 },
 "nbformat": 4,
 "nbformat_minor": 1
}
